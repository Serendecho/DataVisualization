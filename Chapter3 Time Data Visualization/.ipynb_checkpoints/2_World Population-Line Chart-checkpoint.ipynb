{
 "cells": [
  {
   "cell_type": "markdown",
   "metadata": {},
   "source": [
    "# 世界人口折线图"
   ]
  },
  {
   "cell_type": "code",
   "execution_count": 2,
   "metadata": {},
   "outputs": [],
   "source": [
    "%matplotlib inline"
   ]
  },
  {
   "cell_type": "code",
   "execution_count": 3,
   "metadata": {},
   "outputs": [
    {
     "name": "stdout",
     "output_type": "stream",
     "text": [
      "2 ['1960', '3028654024']\n",
      "3 ['1961', '3068356747']\n",
      "4 ['1962', '3121963107']\n",
      "5 ['1963', '3187471383']\n",
      "6 ['1964', '3253112403']\n",
      "7 ['1965', '3320396924']\n",
      "8 ['1966', '3390712300']\n",
      "9 ['1967', '3460521851']\n",
      "10 ['1968', '3531547287']\n",
      "11 ['1969', '3606994959']\n",
      "12 ['1970', '3682870688']\n",
      "13 ['1971', '3761750672']\n",
      "14 ['1972', '3839147707']\n",
      "15 ['1973', '3915742695']\n",
      "16 ['1974', '3992806090']\n",
      "17 ['1975', '4068032705']\n",
      "18 ['1976', '4141383058']\n",
      "19 ['1977', '4214499013']\n",
      "20 ['1978', '4288485981']\n",
      "21 ['1979', '4363754326']\n",
      "22 ['1980', '4439638086']\n",
      "23 ['1981', '4516734312']\n",
      "24 ['1982', '4595890494']\n",
      "25 ['1983', '4675178812']\n",
      "26 ['1984', '4753877875']\n",
      "27 ['1985', '4834206631']\n",
      "28 ['1986', '4918126890']\n",
      "29 ['1987', '5004006066']\n",
      "30 ['1988', '5090899475']\n",
      "31 ['1989', '5178059174']\n",
      "32 ['1990', '5266783430']\n",
      "33 ['1991', '5351836347']\n",
      "34 ['1992', '5433823608']\n",
      "35 ['1993', '5516863641']\n",
      "36 ['1994', '5598658151']\n",
      "37 ['1995', '5681689325']\n",
      "38 ['1996', '5762235749']\n",
      "39 ['1997', '5842585301']\n",
      "40 ['1998', '5921799957']\n",
      "41 ['1999', '6001269553']\n",
      "42 ['2000', '6078274622']\n",
      "43 ['2001', '6155652495']\n",
      "44 ['2002', '6232413711']\n",
      "45 ['2003', '6309266583']\n",
      "46 ['2004', '6385778679']\n",
      "47 ['2005', '6462054420']\n",
      "48 ['2006', '6538196688']\n",
      "49 ['2007', '6614396907']\n",
      "50 ['2008', '6692030277']\n",
      "51 ['2009', '6775235741']\n"
     ]
    },
    {
     "data": {
      "image/png": "[encoded data removed]",
      "text/plain": [
       "<Figure size 432x288 with 1 Axes>"
      ]
     },
     "metadata": {
      "needs_background": "light"
     },
     "output_type": "display_data"
    }
   ],
   "source": [
    "import csv\n",
    "import matplotlib.pyplot as plt\n",
    "\n",
    "# 读取csv文件\n",
    "filename = 'world-population.csv'\n",
    "datax = []\n",
    "datay = []\n",
    "with open(filename) as f:\n",
    "    reader = csv.reader(f)\n",
    "    for datarow in reader:\n",
    "        if reader.line_num != 1:\n",
    "            print(reader.line_num, datarow)\n",
    "            \n",
    "            # 从csv文件中读取的数据为字符串，需要转换为int型\n",
    "            datax.append(int(datarow[0]))\n",
    "            datay.append(int(datarow[1]))\n",
    "\n",
    "# 画图\n",
    "plt.plot(datax, datay)\n",
    "plt.show()"
   ]
  },
  {
   "cell_type": "code",
   "execution_count": null,
   "metadata": {},
   "outputs": [],
   "source": []
  }
 ],
 "metadata": {
  "kernelspec": {
   "display_name": "Python 3",
   "language": "python",
   "name": "python3"
  },
  "language_info": {
   "codemirror_mode": {
    "name": "ipython",
    "version": 3
   },
   "file_extension": ".py",
   "mimetype": "text/x-python",
   "name": "python",
   "nbconvert_exporter": "python",
   "pygments_lexer": "ipython3",
   "version": "3.7.0"
  }
 },
 "nbformat": 4,
 "nbformat_minor": 2
}
