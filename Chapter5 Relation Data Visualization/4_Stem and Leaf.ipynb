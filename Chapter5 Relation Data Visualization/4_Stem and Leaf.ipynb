{
 "cells": [
  {
   "cell_type": "markdown",
   "metadata": {},
   "source": [
    "# 茎叶图"
   ]
  },
  {
   "cell_type": "code",
   "execution_count": 1,
   "metadata": {},
   "outputs": [
    {
     "name": "stdout",
     "output_type": "stream",
     "text": [
      "    8 | 2371334468999\n",
      "   10 | 01223455566999001222234555777889\n",
      "   12 | 00011111356789993789\n",
      "   14 | 0034566788991237\n",
      "   16 | 227779123677889\n",
      "   18 | 00233677888900448\n",
      "   20 | 0024445688912455679\n",
      "   22 | 0057834579\n",
      "   24 | 11456677771347\n",
      "   26 | 31335667\n",
      "   28 | 014999\n",
      "   30 | 124234\n",
      "   32 | 1449069\n",
      "   34 | 556049\n",
      "   36 | 8890\n",
      "   38 | 023455823468\n",
      "   40 | 23125\n",
      "   42 | 699\n",
      "   44 | 17\n",
      "   46 | 252\n",
      "   48 | \n",
      "   50 | \n",
      "   52 | 5\n"
     ]
    }
   ],
   "source": [
    "import numpy as np\n",
    "import math\n",
    "from itertools import groupby\n",
    "import pandas as pd\n",
    "\n",
    "# 导入数据\n",
    "birth = pd.read_csv('birthrate.csv')\n",
    "birth.dropna(subset=['2008'], inplace=True)\n",
    "\n",
    "dirt = {}\n",
    "data = list(round(birth['2008'], 1))\n",
    "rangenum = []\n",
    "\n",
    "for k, g in groupby(sorted(data), key=lambda x: int(x)):\n",
    "    lst = map(str, list(map(lambda y: divmod(int(y*10), 10)[1], list(g))))\n",
    "    dirt[k] = ''.join(lst)\n",
    "    rangenum.append(k)\n",
    "    \n",
    "num = list(range(rangenum[0], rangenum[-1], 2))\n",
    "\n",
    "for i in num:\n",
    "    a = ''\n",
    "    for k in sorted(dirt.keys()):\n",
    "        if 0 <= k-i <= 1:\n",
    "            a = a + '' + dirt[k]\n",
    "        elif k-i > 1:\n",
    "            break\n",
    "    print(str(i).rjust(5), '|', a)"
   ]
  },
  {
   "cell_type": "code",
   "execution_count": null,
   "metadata": {},
   "outputs": [],
   "source": []
  }
 ],
 "metadata": {
  "kernelspec": {
   "display_name": "Python 3",
   "language": "python",
   "name": "python3"
  },
  "language_info": {
   "codemirror_mode": {
    "name": "ipython",
    "version": 3
   },
   "file_extension": ".py",
   "mimetype": "text/x-python",
   "name": "python",
   "nbconvert_exporter": "python",
   "pygments_lexer": "ipython3",
   "version": "3.7.0"
  }
 },
 "nbformat": 4,
 "nbformat_minor": 2
}
