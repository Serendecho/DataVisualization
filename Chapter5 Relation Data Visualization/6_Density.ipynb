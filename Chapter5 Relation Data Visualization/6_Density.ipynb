{
 "cells": [
  {
   "cell_type": "markdown",
   "metadata": {},
   "source": [
    "# 密度图"
   ]
  },
  {
   "cell_type": "code",
   "execution_count": 2,
   "metadata": {},
   "outputs": [],
   "source": [
    "%matplotlib inline"
   ]
  },
  {
   "cell_type": "code",
   "execution_count": 8,
   "metadata": {},
   "outputs": [
    {
     "data": {
      "image/png": "[encoded data removed]",
      "text/plain": [
       "<Figure size 432x288 with 1 Axes>"
      ]
     },
     "metadata": {
      "needs_background": "light"
     },
     "output_type": "display_data"
    }
   ],
   "source": [
    "import numpy as np\n",
    "import pandas as pd\n",
    "import matplotlib.pyplot as plt\n",
    "import matplotlib.mlab as mlab\n",
    "import matplotlib\n",
    "\n",
    "plt.rcParams['font.sans-serif'] = ['KaiTi']\n",
    "plt.rcParams['axes.unicode_minus'] = False\n",
    "titanic = pd.read_csv('birthrate.csv')\n",
    "titanic.dropna(subset = ['2008'], inplace = True)\n",
    "\n",
    "kde = mlab.GaussianKDE(titanic['2008'])\n",
    "x2 = np.linspace(titanic['2008'].min(),\n",
    "                titanic['2008'].max(),\n",
    "                1000\n",
    "                )\n",
    "# 绘制\n",
    "line2 = plt.plot(x2, \n",
    "                 kde(x2), \n",
    "                 'r-', # 线条颜色\n",
    "                 linewidth = 2 # 线条宽度\n",
    "                )\n",
    "# 设置x,y轴，标题\n",
    "plt.xlabel('x2')\n",
    "plt.ylabel('kde(x2)')\n",
    "plt.title('密度图示例')\n",
    "\n",
    "plt.show()"
   ]
  },
  {
   "cell_type": "code",
   "execution_count": null,
   "metadata": {},
   "outputs": [],
   "source": []
  }
 ],
 "metadata": {
  "kernelspec": {
   "display_name": "Python 3",
   "language": "python",
   "name": "python3"
  },
  "language_info": {
   "codemirror_mode": {
    "name": "ipython",
    "version": 3
   },
   "file_extension": ".py",
   "mimetype": "text/x-python",
   "name": "python",
   "nbconvert_exporter": "python",
   "pygments_lexer": "ipython3",
   "version": "3.7.0"
  }
 },
 "nbformat": 4,
 "nbformat_minor": 2
}
