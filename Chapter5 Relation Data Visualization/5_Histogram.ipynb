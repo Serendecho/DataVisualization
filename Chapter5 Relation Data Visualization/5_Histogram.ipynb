{
 "cells": [
  {
   "cell_type": "markdown",
   "metadata": {},
   "source": [
    "# 直方图"
   ]
  },
  {
   "cell_type": "code",
   "execution_count": 2,
   "metadata": {},
   "outputs": [],
   "source": [
    "%matplotlib inline"
   ]
  },
  {
   "cell_type": "code",
   "execution_count": 26,
   "metadata": {},
   "outputs": [
    {
     "name": "stderr",
     "output_type": "stream",
     "text": [
      "D:\\Anaconda3-5.3.0\\lib\\site-packages\\matplotlib\\cbook\\deprecation.py:107: MatplotlibDeprecationWarning: Passing one of 'on', 'true', 'off', 'false' as a boolean is deprecated; use an actual boolean (True/False) instead.\n",
      "  warnings.warn(message, mplDeprecation, stacklevel=1)\n"
     ]
    },
    {
     "data": {
      "image/png": "[encoded data removed]",
      "text/plain": [
       "<Figure size 432x288 with 1 Axes>"
      ]
     },
     "metadata": {},
     "output_type": "display_data"
    }
   ],
   "source": [
    "import numpy as np\n",
    "import pandas as pd\n",
    "import matplotlib.pyplot as plt\n",
    "import matplotlib.mlab as mlab\n",
    "import matplotlib\n",
    "\n",
    "# 设置字体\n",
    "matplotlib.rc(\"font\",family='KaiTi',weight=\"bold\")\n",
    "plt.rcParams['axes.unicode_minus'] = False\n",
    "\n",
    "# 读取数据\n",
    "titanic = pd.read_csv('birthrate.csv')\n",
    "titanic.dropna(subset=['2008'], inplace=True)\n",
    "\n",
    "plt.style.use('ggplot')\n",
    "\n",
    "# 绘制直方图\n",
    "plt.hist(titanic['2008'], \n",
    "         bins=10, \n",
    "         color='c', \n",
    "         edgecolor='w',\n",
    "         label='直方图',\n",
    "         alpha=0.45,\n",
    "        )\n",
    "\n",
    "# 去掉边框上的刻度线\n",
    "plt.tick_params(top = 'off', \n",
    "               right = 'off'\n",
    "               )\n",
    "\n",
    "# 设置x, y轴标签\n",
    "plt.xlabel('出生率（%）')\n",
    "plt.ylabel('频率（%）')\n",
    "# 显示图例\n",
    "plt.legend()\n",
    "\n",
    "# 显示图像\n",
    "plt.show()"
   ]
  },
  {
   "cell_type": "code",
   "execution_count": null,
   "metadata": {},
   "outputs": [],
   "source": []
  }
 ],
 "metadata": {
  "kernelspec": {
   "display_name": "Python 3",
   "language": "python",
   "name": "python3"
  },
  "language_info": {
   "codemirror_mode": {
    "name": "ipython",
    "version": 3
   },
   "file_extension": ".py",
   "mimetype": "text/x-python",
   "name": "python",
   "nbconvert_exporter": "python",
   "pygments_lexer": "ipython3",
   "version": "3.7.0"
  }
 },
 "nbformat": 4,
 "nbformat_minor": 2
}
